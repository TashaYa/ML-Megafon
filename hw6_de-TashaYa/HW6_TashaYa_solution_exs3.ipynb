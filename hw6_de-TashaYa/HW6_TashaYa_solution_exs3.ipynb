{
  "nbformat": 4,
  "nbformat_minor": 0,
  "metadata": {
    "colab": {
      "name": "HW6_DE",
      "provenance": [],
      "collapsed_sections": []
    },
    "kernelspec": {
      "name": "python3",
      "display_name": "Python 3"
    }
  },
  "cells": [
    {
      "cell_type": "code",
      "metadata": {
        "id": "RumFnRay9oEM"
      },
      "source": [
        "!pip install pyspark\n",
        "!pip install -U -q PyDrive\n",
        "!apt install openjdk-8-jdk-headless -qq\n",
        "import os\n",
        "os.environ[\"JAVA_HOME\"] = \"/usr/lib/jvm/java-8-openjdk-amd64\""
      ],
      "execution_count": null,
      "outputs": []
    },
    {
      "cell_type": "code",
      "metadata": {
        "id": "68_AeFo49pEU"
      },
      "source": [
        "from pydrive.auth import GoogleAuth\n",
        "from pydrive.drive import GoogleDrive\n",
        "from google.colab import auth\n",
        "from oauth2client.client import GoogleCredentials\n",
        "\n",
        "auth.authenticate_user()\n",
        "gauth = GoogleAuth()\n",
        "gauth.credentials = GoogleCredentials.get_application_default()\n",
        "drive = GoogleDrive(gauth)"
      ],
      "execution_count": null,
      "outputs": []
    },
    {
      "cell_type": "code",
      "metadata": {
        "id": "ftRUvQn89-yC"
      },
      "source": [
        "id='1f_9EbnywCj35EBUA32sueigxBjBJwALr'\n",
        "downloaded = drive.CreateFile({'id': id})\n",
        "downloaded.GetContentFile('War and Peace by Leo Tolstoy (ru).txt')"
      ],
      "execution_count": null,
      "outputs": []
    },
    {
      "cell_type": "code",
      "metadata": {
        "id": "LpR8DQxm-IRN"
      },
      "source": [
        "import pandas as pd\n",
        "\n",
        "import pyspark\n",
        "from pyspark.sql import *\n",
        "from pyspark.sql.functions import *\n",
        "from pyspark import SparkContext, SparkConf"
      ],
      "execution_count": null,
      "outputs": []
    },
    {
      "cell_type": "code",
      "metadata": {
        "id": "w6qPAe12-Q19"
      },
      "source": [
        "conf = SparkConf().set(\"spark.ui.port\", \"4050\")\n",
        "\n",
        "sc = pyspark.SparkContext(conf=conf)\n",
        "spark = SparkSession.builder.getOrCreate()"
      ],
      "execution_count": null,
      "outputs": []
    },
    {
      "cell_type": "code",
      "metadata": {
        "id": "2E-RdW9y-U1o"
      },
      "source": [
        "spark"
      ],
      "execution_count": null,
      "outputs": []
    },
    {
      "cell_type": "code",
      "metadata": {
        "id": "T6LU3RGy-Yag"
      },
      "source": [
        "!wget https://bin.equinox.io/c/4VmDzA7iaHb/ngrok-stable-linux-amd64.zip\n",
        "!unzip ngrok-stable-linux-amd64.zip\n",
        "get_ipython().system_raw('./ngrok http 4050 &')\n",
        "!curl -s http://localhost:4040/api/tunnels | python3 -c \\\n",
        "    \"import sys, json; print(json.load(sys.stdin)['tunnels'][0]['public_url'])\""
      ],
      "execution_count": null,
      "outputs": []
    },
    {
      "cell_type": "markdown",
      "metadata": {
        "id": "bgte5waWKrpd"
      },
      "source": [
        "Подсчитай кол-во слов в документе \"War and Peace by Leo Tolstoy (ru).txt\""
      ]
    },
    {
      "cell_type": "code",
      "metadata": {
        "id": "F7AYXXsTKqjm"
      },
      "source": [
        "# код"
      ],
      "execution_count": null,
      "outputs": []
    },
    {
      "cell_type": "code",
      "metadata": {
        "id": "MJgmIgCzLJTo"
      },
      "source": [
        "id='13yfAoONwq4rS5XrTv3IrcqcFcdgfvK9V'\n",
        "downloaded = drive.CreateFile({'id': id})\n",
        "downloaded.GetContentFile('mnist-digits-train.txt')\n",
        "\n",
        "id='1VE_9x0LQvOJpHXbXp_RMPl3Q4wRUuOok'\n",
        "downloaded = drive.CreateFile({'id': id})\n",
        "downloaded.GetContentFile('mnist-digits-test.txt')"
      ],
      "execution_count": null,
      "outputs": []
    },
    {
      "cell_type": "markdown",
      "metadata": {
        "id": "vSU-TTUvNaON"
      },
      "source": [
        "Необходимо обучить модель используя Spark MLlib (модель на ваш выбор, например Decision Tree) и получить accuracy.\n",
        "Подробнее тут: https://spark.apache.org/docs/latest/ml-classification-regression.html"
      ]
    },
    {
      "cell_type": "code",
      "metadata": {
        "id": "saTc8AVOLiJq"
      },
      "source": [
        "# код"
      ],
      "execution_count": null,
      "outputs": []
    },
    {
      "cell_type": "code",
      "metadata": {
        "id": "yKMztZ2eOOrE"
      },
      "source": [
        "id='1kUIrskM0zNH8u71G9M1BkHjRQYxvgAvh'\n",
        "downloaded = drive.CreateFile({'id': id})\n",
        "downloaded.GetContentFile('data.zip')\n",
        "!unzip data.zip"
      ],
      "execution_count": null,
      "outputs": []
    },
    {
      "cell_type": "markdown",
      "metadata": {
        "id": "v43K2fDAjUYb"
      },
      "source": [
        "Кто получает больше всего? Кто меньше всего?"
      ]
    },
    {
      "cell_type": "code",
      "metadata": {
        "id": "Zm15EW8znWDo",
        "colab": {
          "base_uri": "https://localhost:8080/"
        },
        "outputId": "6f2100e9-2136-42ae-ec18-f9736d43d82e"
      },
      "source": [
        "# код\n",
        "#sc = SparkSession.builder.appName(\n",
        "#    \"PysparkExample\").config (\n",
        "#        \"spark.sql.shuffle.partitions\", \"50\").config(\n",
        "#            \"spark.driver.maxResultSize\",\"5g\").config (\n",
        "#                \"spark.sql.execution.arrow.enabled\", \"true\").getOrCreate()\n",
        "\n",
        "dataframe = spark.read.csv('data/employees.csv', sep = '\\t', header = True)\n",
        "dataframe.head(5)\n",
        "\n",
        "dataframe.createOrReplaceTempView(\"df\")\n",
        "sc.sql(\"SELECT * FROM df WHERE salary = (SELECT MAX(CAST(salary AS INT)) FROM df )\").show()\n",
        "sc.sql(\"SELECT * FROM df WHERE salary = (SELECT MIN(CAST(salary AS INT)) FROM df )\").show()\n",
        "#spark.sql(\"SELECT JOB_TITLE, MAX_SALARY from JOBS ORDER BY CAST(MAX_SALARY as INT) desc\").show()"
      ],
      "execution_count": 70,
      "outputs": [
        {
          "output_type": "stream",
          "text": [
            "+-----------+----------+---------+-----+------------+---------+-------+------+--------------+----------+-------------+\n",
            "|EMPLOYEE_ID|FIRST_NAME|LAST_NAME|EMAIL|PHONE_NUMBER|HIRE_DATE| JOB_ID|SALARY|COMMISSION_PCT|MANAGER_ID|DEPARTMENT_ID|\n",
            "+-----------+----------+---------+-----+------------+---------+-------+------+--------------+----------+-------------+\n",
            "|        100|    Steven|     King|SKING|515.123.4567| 17.06.03|AD_PRES| 24000|          null|      null|           90|\n",
            "+-----------+----------+---------+-----+------------+---------+-------+------+--------------+----------+-------------+\n",
            "\n",
            "+-----------+----------+---------+-------+------------+---------+--------+------+--------------+----------+-------------+\n",
            "|EMPLOYEE_ID|FIRST_NAME|LAST_NAME|  EMAIL|PHONE_NUMBER|HIRE_DATE|  JOB_ID|SALARY|COMMISSION_PCT|MANAGER_ID|DEPARTMENT_ID|\n",
            "+-----------+----------+---------+-------+------------+---------+--------+------+--------------+----------+-------------+\n",
            "|        132|        TJ|    Olson|TJOLSON|650.124.8234| 10.04.07|ST_CLERK|  2100|          null|       121|           50|\n",
            "+-----------+----------+---------+-------+------------+---------+--------+------+--------------+----------+-------------+\n",
            "\n"
          ],
          "name": "stdout"
        }
      ]
    },
    {
      "cell_type": "markdown",
      "metadata": {
        "id": "zg8-rkFlkMqm"
      },
      "source": [
        "Выведете топ 5 по зарплате."
      ]
    },
    {
      "cell_type": "code",
      "metadata": {
        "id": "SMzJ_tJhnWuV",
        "colab": {
          "base_uri": "https://localhost:8080/"
        },
        "outputId": "b1a1eea6-63b8-478d-a935-1508365429f1"
      },
      "source": [
        "# код\n",
        "sc.sql(\"SELECT * FROM df ORDER BY CAST(salary AS INT) LIMIT 100\").show()"
      ],
      "execution_count": 78,
      "outputs": [
        {
          "output_type": "stream",
          "text": [
            "+-----------+----------+-----------+--------+------------+---------+--------+------+--------------+----------+-------------+\n",
            "|EMPLOYEE_ID|FIRST_NAME|  LAST_NAME|   EMAIL|PHONE_NUMBER|HIRE_DATE|  JOB_ID|SALARY|COMMISSION_PCT|MANAGER_ID|DEPARTMENT_ID|\n",
            "+-----------+----------+-----------+--------+------------+---------+--------+------+--------------+----------+-------------+\n",
            "|        132|        TJ|      Olson| TJOLSON|650.124.8234| 10.04.07|ST_CLERK|  2100|          null|       121|           50|\n",
            "|        136|     Hazel| Philtanker|HPHILTAN|650.127.1634| 06.02.08|ST_CLERK|  2200|          null|       122|           50|\n",
            "|        128|    Steven|     Markle| SMARKLE|650.124.1434| 08.03.08|ST_CLERK|  2200|          null|       120|           50|\n",
            "|        127|     James|     Landry| JLANDRY|650.124.1334| 14.01.07|ST_CLERK|  2400|          null|       120|           50|\n",
            "|        135|        Ki|        Gee|    KGEE|650.127.1734| 12.12.07|ST_CLERK|  2400|          null|       122|           50|\n",
            "|        119|     Karen| Colmenares|KCOLMENA|515.127.4566| 10.08.07|PU_CLERK|  2500|          null|       114|           30|\n",
            "|        131|     James|     Marlow| JAMRLOW|650.124.7234| 16.02.05|ST_CLERK|  2500|          null|       121|           50|\n",
            "|        191|   Randall|    Perkins|RPERKINS|650.505.4876| 19.12.07|SH_CLERK|  2500|          null|       122|           50|\n",
            "|        140|    Joshua|      Patel|  JPATEL|650.121.1834| 06.04.06|ST_CLERK|  2500|          null|       123|           50|\n",
            "|        144|     Peter|     Vargas| PVARGAS|650.121.2004| 09.07.06|ST_CLERK|  2500|          null|       124|           50|\n",
            "|        182|    Martha|   Sullivan|MSULLIVA|650.507.9878| 21.06.07|SH_CLERK|  2500|          null|       120|           50|\n",
            "|        143|   Randall|      Matos|  RMATOS|650.121.2874| 15.03.06|ST_CLERK|  2600|          null|       124|           50|\n",
            "|        198|    Donald|   OConnell|DOCONNEL|650.507.9833| 21.06.07|SH_CLERK|  2600|          null|       124|           50|\n",
            "|        199|   Douglas|      Grant|  DGRANT|650.507.9844| 13.01.08|SH_CLERK|  2600|          null|       124|           50|\n",
            "|        118|       Guy|     Himuro| GHIMURO|515.127.4565| 15.11.06|PU_CLERK|  2600|          null|       114|           30|\n",
            "|        126|     Irene|Mikkilineni|IMIKKILI|650.124.1224| 28.09.06|ST_CLERK|  2700|          null|       120|           50|\n",
            "|        139|      John|        Seo|    JSEO|650.121.2019| 12.02.06|ST_CLERK|  2700|          null|       123|           50|\n",
            "|        117|     Sigal|     Tobias| STOBIAS|515.127.4564| 24.07.05|PU_CLERK|  2800|          null|       114|           30|\n",
            "|        130|     Mozhe|   Atkinson|MATKINSO|650.124.6234| 30.10.05|ST_CLERK|  2800|          null|       121|           50|\n",
            "|        183|    Girard|      Geoni|  GGEONI|650.507.9879| 03.02.08|SH_CLERK|  2800|          null|       120|           50|\n",
            "+-----------+----------+-----------+--------+------------+---------+--------+------+--------------+----------+-------------+\n",
            "only showing top 20 rows\n",
            "\n"
          ],
          "name": "stdout"
        }
      ]
    },
    {
      "cell_type": "markdown",
      "metadata": {
        "id": "JfBpDVYwkM7K"
      },
      "source": [
        "Сколько всего регионов? Сколько работников в каждом регионе?"
      ]
    },
    {
      "cell_type": "code",
      "metadata": {
        "id": "w2d2AiBknYSo",
        "colab": {
          "base_uri": "https://localhost:8080/"
        },
        "outputId": "33e830c1-273b-4621-f3a5-d88cd60eea63"
      },
      "source": [
        "# код\n",
        "\n",
        "dataframe2 = spark.read.csv('data/country.csv', sep = '\\t', header = True)\n",
        "dataframe2.head(5)\n",
        "\n",
        "dataframe2.createOrReplaceTempView(\"df2\")\n",
        "sc.sql(\"SELECT COUNT(REGION_ID) FROM df2\").show()"
      ],
      "execution_count": 79,
      "outputs": [
        {
          "output_type": "stream",
          "text": [
            "+----------------+\n",
            "|count(REGION_ID)|\n",
            "+----------------+\n",
            "|              25|\n",
            "+----------------+\n",
            "\n"
          ],
          "name": "stdout"
        }
      ]
    },
    {
      "cell_type": "markdown",
      "metadata": {
        "id": "OOY2unJ8kNXz"
      },
      "source": [
        "Выведете всех работников из Китая."
      ]
    },
    {
      "cell_type": "code",
      "metadata": {
        "id": "5Lhj9GAwnZgK"
      },
      "source": [
        "# код"
      ],
      "execution_count": null,
      "outputs": []
    },
    {
      "cell_type": "markdown",
      "metadata": {
        "id": "s1Nc8F-6kNR7"
      },
      "source": [
        "Укажите самую высокооплачиваемою должность."
      ]
    },
    {
      "cell_type": "code",
      "metadata": {
        "id": "-ZNAohM-naSr"
      },
      "source": [
        "# код"
      ],
      "execution_count": null,
      "outputs": []
    },
    {
      "cell_type": "markdown",
      "metadata": {
        "id": "dzenJwUnkNL8"
      },
      "source": [
        "Выведете всех работников связанных с ИТ. Выведете их менеджеров. "
      ]
    },
    {
      "cell_type": "code",
      "metadata": {
        "id": "eogYiLjXna3h"
      },
      "source": [
        "# код"
      ],
      "execution_count": null,
      "outputs": []
    },
    {
      "cell_type": "markdown",
      "metadata": {
        "id": "tvpCoeYPmLTW"
      },
      "source": [
        "Выведете имя и фамилию работника, его текущую и предыдущую должности и сколько полных недель и дней прошло с момент изменения. \n",
        "\n"
      ]
    },
    {
      "cell_type": "code",
      "metadata": {
        "id": "SkCvyzkVnbo6"
      },
      "source": [
        "# код"
      ],
      "execution_count": null,
      "outputs": []
    },
    {
      "cell_type": "markdown",
      "metadata": {
        "id": "sOBhGAaanC0e"
      },
      "source": [
        "Выведете уникальные телефонные номера"
      ]
    },
    {
      "cell_type": "code",
      "metadata": {
        "id": "05BrXyrsncKf",
        "colab": {
          "base_uri": "https://localhost:8080/"
        },
        "outputId": "0d789073-5c85-452a-93d5-b6cd26d4e8a0"
      },
      "source": [
        "spark.sql(\"SELECT DISTINCT PHONE_NUMBER from df\").show()"
      ],
      "execution_count": 69,
      "outputs": [
        {
          "output_type": "stream",
          "text": [
            "+------------------+\n",
            "|      PHONE_NUMBER|\n",
            "+------------------+\n",
            "|      515.124.4569|\n",
            "|011.44.1344.429018|\n",
            "|011.44.1346.129268|\n",
            "|011.44.1346.729268|\n",
            "|      590.423.4569|\n",
            "|011.44.1343.729268|\n",
            "|      515.127.4566|\n",
            "|      650.123.5234|\n",
            "|      650.127.1934|\n",
            "|      650.121.2004|\n",
            "|      515.123.8888|\n",
            "|011.44.1345.829268|\n",
            "|      515.123.4444|\n",
            "|      515.124.4567|\n",
            "|      515.127.4564|\n",
            "|      515.123.4568|\n",
            "|011.44.1344.429268|\n",
            "|011.44.1344.429278|\n",
            "|011.44.1346.329268|\n",
            "|      515.123.4569|\n",
            "+------------------+\n",
            "only showing top 20 rows\n",
            "\n"
          ],
          "name": "stdout"
        }
      ]
    },
    {
      "cell_type": "markdown",
      "metadata": {
        "id": "qdf1VBv3nMR-"
      },
      "source": [
        "Есть ли сотрудники с одинаковыми фамилиями и сколько их."
      ]
    },
    {
      "cell_type": "code",
      "metadata": {
        "id": "apTLX1o6jy6K"
      },
      "source": [
        "# код"
      ],
      "execution_count": null,
      "outputs": []
    }
  ]
}